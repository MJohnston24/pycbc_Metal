{
 "cells": [
  {
   "cell_type": "code",
   "execution_count": 1,
   "id": "b84b2e97-0299-459c-8a0a-7bf7c98986e9",
   "metadata": {},
   "outputs": [],
   "source": [
    "import numpy as np\n",
    "import mlx.core as mx"
   ]
  },
  {
   "cell_type": "markdown",
   "id": "8b556fd9-77bc-4b16-b636-17ee5c36cf78",
   "metadata": {
    "jp-MarkdownHeadingCollapsed": true
   },
   "source": [
    "# getting the inner product and real extraction to work"
   ]
  },
  {
   "cell_type": "code",
   "execution_count": 2,
   "id": "1d52c88d-4b10-46b4-9f06-7a580560a0da",
   "metadata": {},
   "outputs": [
    {
     "name": "stdout",
     "output_type": "stream",
     "text": [
      "array(-16, dtype=float32) array(30, dtype=float32)\n"
     ]
    }
   ],
   "source": [
    "a_re = mx.array(3.)\n",
    "a_im = mx.array(5.)\n",
    "b_re = mx.array(4.)\n",
    "b_im = mx.array(7.)\n",
    "\n",
    "# inner product (dot product)\n",
    "c_re = a_re * a_re - a_im * a_im\n",
    "c_im = 2 * a_re * a_im\n",
    "\n",
    "print(c_re, c_im)"
   ]
  },
  {
   "cell_type": "code",
   "execution_count": 12,
   "id": "a4749d2c-4b9e-4e6d-a635-a182d86e7bd5",
   "metadata": {},
   "outputs": [],
   "source": [
    "def inner_product(a_re, a_im, b_re, b_im):\n",
    "    # <a|b>\n",
    "    c_re = a_re * b_re - a_im * b_im\n",
    "    c_im = a_re * b_im + b_re * a_im\n",
    "    return c_re, c_im\n",
    "\n",
    "def noise_weighted_inner_product(a_re, a_im, b_re, b_im, PSD, duration):\n",
    "    ''' from Bilby directly: \n",
    "    integrand = np.conj(aa) * bb / power_spectral_density\n",
    "    return 4 / duration * np.sum(integrand) \n",
    "    # this also follows the PyCBC convention, the conjugated vector is given first\n",
    "    '''\n",
    "    numerator_re, numerator_im = inner_product(a_re, a_im, b_re, b_im)\n",
    "    integrand_re = numerator_re / PSD\n",
    "    integrand_im = numerator_im / PSD\n",
    "    result_re = 4 / duration * sum(integrand_re)\n",
    "    result_im = 4 / duration * sum(integrand_im)\n",
    "    return result_re, result_im\n"
   ]
  },
  {
   "cell_type": "code",
   "execution_count": 3,
   "id": "bfd6e7b3-224e-4329-872e-474e4270233f",
   "metadata": {},
   "outputs": [
    {
     "name": "stdout",
     "output_type": "stream",
     "text": [
      "array([-16, -33, -16, -16], dtype=float32) array([30, 56, 30, 30], dtype=float32)\n"
     ]
    }
   ],
   "source": [
    "a_re = mx.array((3., 4., 3., 3.))\n",
    "a_im = mx.array((5., 7., 5., 5.))\n",
    "b_re = mx.array((4., 4., 3., 7.))\n",
    "b_im = mx.array((7., 7., 5., 7.))\n",
    "\n",
    "c_re, c_im = inner_product(a_re, a_im, a_re, a_im)\n",
    "print(c_re, c_im)"
   ]
  },
  {
   "cell_type": "code",
   "execution_count": 5,
   "id": "b6a375a7-2377-491f-a52d-a23edd68f1e2",
   "metadata": {},
   "outputs": [
    {
     "name": "stdout",
     "output_type": "stream",
     "text": [
      "array(1.23569e+22, dtype=float32) array(-7.27778e+20, dtype=float32)\n"
     ]
    }
   ],
   "source": [
    "mock_PSD = mx.array((1e-20, 8e-21, 6e-21, 9e-21))\n",
    "duration = 8\n",
    "\n",
    "result_re, result_im = noise_weighted_inner_product(a_re, a_im, b_re, b_im, mock_PSD, duration)\n",
    "print(result_re, result_im)"
   ]
  },
  {
   "cell_type": "code",
   "execution_count": 61,
   "id": "11ab6c00-24a7-4b7b-ad63-55f8e1ecad97",
   "metadata": {},
   "outputs": [
    {
     "name": "stdout",
     "output_type": "stream",
     "text": [
      "3.0\n",
      "3.0\n"
     ]
    }
   ],
   "source": [
    "# messing around with array.real\n",
    "def get_real(z):\n",
    "    real = (z + np.conjugate(z))/2\n",
    "    real_str_keep = str(real).split('+')[0]\n",
    "    return float(real_str_keep[1:])\n",
    "\n",
    "a = complex(3, 5)\n",
    "print(get_real(a))\n",
    "print(a.real)"
   ]
  },
  {
   "cell_type": "code",
   "execution_count": 81,
   "id": "39dfd85a-a0cb-47f3-88a1-045c4c255f0c",
   "metadata": {},
   "outputs": [
    {
     "name": "stdout",
     "output_type": "stream",
     "text": [
      "array([13+0j, 0-1j, -1+0j, 0+1j], dtype=complex64)\n",
      "13.0\n"
     ]
    }
   ],
   "source": [
    "def get_real_mx(z):\n",
    "    real = (z + mx.conjugate(z))/2\n",
    "    real_str_keep = str(real).split('+')[0].split('-')[0]\n",
    "    return float(real_str_keep[7:])\n",
    "\n",
    "print(a_re_fft)\n",
    "a_re_re = get_real_mx(a_re_fft)\n",
    "print(a_re_re)"
   ]
  },
  {
   "cell_type": "code",
   "execution_count": 106,
   "id": "943efcf0-e136-4112-aa36-b027cc442677",
   "metadata": {},
   "outputs": [
    {
     "name": "stdout",
     "output_type": "stream",
     "text": [
      "mlx.core.complex64\n"
     ]
    },
    {
     "data": {
      "text/plain": [
       "True"
      ]
     },
     "execution_count": 106,
     "metadata": {},
     "output_type": "execute_result"
    }
   ],
   "source": [
    "array = a_re_fft\n",
    "print(array.dtype)\n",
    "str(array.dtype) == 'mlx.core.complex64'"
   ]
  },
  {
   "cell_type": "code",
   "execution_count": 66,
   "id": "0a41c94b-7654-4118-99cb-2f6b75915834",
   "metadata": {},
   "outputs": [
    {
     "name": "stdout",
     "output_type": "stream",
     "text": [
      "array([13+0j, 0-1j, -1+0j, 0+1j], dtype=complex64)\n"
     ]
    },
    {
     "data": {
      "text/plain": [
       "array([13, 0, -1, 0], dtype=float32)"
      ]
     },
     "execution_count": 66,
     "metadata": {},
     "output_type": "execute_result"
    }
   ],
   "source": [
    "def get_real_mx(array):\n",
    "    if str(array.dtype) == 'mlx.core.complex64':\n",
    "        container = []\n",
    "        for iii in range(array.size):\n",
    "            z = array[iii]\n",
    "            real = (z + mx.conjugate(z))/2\n",
    "            real_str1 = str(real).split('(')[1].split('+')[0]\n",
    "            if real_str1[0] == '-':\n",
    "                real_str2 = str('-') + real_str1.split('-')[1]\n",
    "            else: \n",
    "                real_str2 = real_str1.split('-')[0]\n",
    "            container.append(float(real_str2))\n",
    "            container_mx = mx.array(container)\n",
    "        return container_mx\n",
    "    else: \n",
    "        return array\n",
    "\n",
    "test_array = a_re_fft\n",
    "# test_array = a_re\n",
    "print(test_array)\n",
    "get_real_mx(test_array)    "
   ]
  },
  {
   "cell_type": "code",
   "execution_count": 98,
   "id": "a45956b2-6475-4364-9411-c8bf7f92782b",
   "metadata": {},
   "outputs": [
    {
     "name": "stdout",
     "output_type": "stream",
     "text": [
      "array(0+1j, dtype=complex64)\n",
      "0\n",
      "array(0\n"
     ]
    }
   ],
   "source": [
    "iii = 3\n",
    "print(test_array[iii])\n",
    "imag = str(test_array[iii])\n",
    "\n",
    "print(imag.split('(')[1].split(',')[0].split('+')[0])\n",
    "\n",
    "print(imag.split('j')[0].split('+')[0])\n",
    "#print(imag.split('j')[0].split('-')[1])\n"
   ]
  },
  {
   "cell_type": "code",
   "execution_count": 106,
   "id": "467245cd-aab0-4b70-ab13-2575061ae1b8",
   "metadata": {},
   "outputs": [
    {
     "name": "stdout",
     "output_type": "stream",
     "text": [
      "array([13+0j, 0-1j, -1+0j, 0+1j], dtype=complex64)\n"
     ]
    },
    {
     "data": {
      "text/plain": [
       "array([0, -1, 0, 1], dtype=float32)"
      ]
     },
     "execution_count": 106,
     "metadata": {},
     "output_type": "execute_result"
    }
   ],
   "source": [
    "def imag_mx_DTYPE_HACK(array):\n",
    "    if str(array.dtype) == 'mlx.core.complex64':\n",
    "        container = []\n",
    "        for iii in range(array.size):\n",
    "            z = array[iii]\n",
    "            imag = (z - mx.conjugate(z))/2j\n",
    "            imag_str1 = str(imag).split('(')[1].split(',')[0]\n",
    "            if imag_str1[-1] == 'j':\n",
    "                imag_str2 = str(imag_str1).split('j')[0].split('+')[0]\n",
    "            else: \n",
    "                imag_str2 = '-' + str(imag_str1).split('j')[0].split('-')[1]\n",
    "            container.append(float(imag_str2))\n",
    "            container_mx = mx.array(container)\n",
    "        return container_mx\n",
    "    else: \n",
    "        return array\n",
    "\n",
    "test_array = a_re_fft\n",
    "# test_array = a_re\n",
    "print(test_array)\n",
    "imag_mx_HACK(test_array)    "
   ]
  },
  {
   "cell_type": "code",
   "execution_count": 114,
   "id": "4120fbf5-fde5-43da-9e29-87c0bcf57a2f",
   "metadata": {},
   "outputs": [
    {
     "name": "stdout",
     "output_type": "stream",
     "text": [
      "array(0-1j, dtype=complex64)\n",
      "array(-1, dtype=float32)\n"
     ]
    }
   ],
   "source": [
    "z = test_array[1]\n",
    "print(z)\n",
    "print(real_mx((real_mx(z)-z)*1j))"
   ]
  },
  {
   "cell_type": "code",
   "execution_count": null,
   "id": "efa334ce-0f5c-49ea-84a3-9f59166eec80",
   "metadata": {},
   "outputs": [],
   "source": [
    "def imag_mx(array):\n",
    "    return real_mx((real_mx(array)-array)*1j)"
   ]
  },
  {
   "cell_type": "code",
   "execution_count": 104,
   "id": "319dbeff-44b5-4bf4-8abf-ff946fd781ba",
   "metadata": {},
   "outputs": [
    {
     "name": "stdout",
     "output_type": "stream",
     "text": [
      "array([13+0j, 0-1j, -1+0j, 0+1j], dtype=complex64)\n",
      "array([13, 0, -1, 0], dtype=float32)\n"
     ]
    }
   ],
   "source": [
    "print(test_array)\n",
    "print(mx.array.astype(test_array, dtype=mx.float32))"
   ]
  },
  {
   "cell_type": "code",
   "execution_count": 2,
   "id": "3e6d9794-0ac3-4594-9ea8-40e528532704",
   "metadata": {},
   "outputs": [
    {
     "name": "stdout",
     "output_type": "stream",
     "text": [
      "array([1, 2, 3, 4], dtype=float32)\n",
      "array([1+0j, 2+0j, 3+0j, 4+0j], dtype=complex64)\n"
     ]
    }
   ],
   "source": [
    "# checking out some things\n",
    "\n",
    "a_float = mx.array((1., 2., 3., 4.))\n",
    "a_test = mx.array.astype(a_float, dtype=mx.complex64)\n",
    "a_test2 = mx.array.astype(a_test, dtype=mx.complex64)\n",
    "print(a_float)\n",
    "print(a_test)\n",
    "#print(mx.sum(a_test2))"
   ]
  },
  {
   "cell_type": "code",
   "execution_count": 13,
   "id": "a5919b02-e248-4be5-9e79-37b5bd1faa1a",
   "metadata": {},
   "outputs": [
    {
     "name": "stdout",
     "output_type": "stream",
     "text": [
      "array(10, dtype=float32)\n",
      "array([1, 2, 3, 4], dtype=float32)\n",
      "array([1, 4, 9, 16], dtype=float32)\n",
      "array(10+0j, dtype=complex64)\n"
     ]
    }
   ],
   "source": [
    "print(mx.sum(a_float))\n",
    "print(mx.conjugate(a_float))\n",
    "print(inner_product_mx(a_float,a_float))\n",
    "print(complex_sum_mx(a_test))"
   ]
  },
  {
   "cell_type": "code",
   "execution_count": 11,
   "id": "e3c6132a-80b9-4e98-a82d-35a5da28376f",
   "metadata": {},
   "outputs": [
    {
     "name": "stdout",
     "output_type": "stream",
     "text": [
      "array(0, dtype=int32)\n",
      "array(1+0j, dtype=complex64)\n",
      "array(3+0j, dtype=complex64)\n",
      "array(6+0j, dtype=complex64)\n",
      "array(10+0j, dtype=complex64)\n",
      "done!\n",
      "array(10+0j, dtype=complex64)\n"
     ]
    }
   ],
   "source": [
    "sum = mx.array(0)\n",
    "print(sum)\n",
    "# for iii in range(a_float.size):\n",
    "for iii in range(a_test.size):\n",
    "    # element = a_float[iii]\n",
    "    element = a_test[iii]\n",
    "    sum += element\n",
    "    print(sum)\n",
    "\n",
    "print(\"done!\")\n",
    "print(sum)"
   ]
  },
  {
   "cell_type": "code",
   "execution_count": 65,
   "id": "ed02ceb7-d93a-4458-8a46-43f48eb8aea9",
   "metadata": {},
   "outputs": [
    {
     "name": "stdout",
     "output_type": "stream",
     "text": [
      "array([1, 2, 3, 4], dtype=float32)\n",
      "array([1+0j, 2+0j, 3+0j, 4+0j], dtype=complex64)\n",
      "array([1, 2, 3, 4], dtype=float32)\n",
      "array([10+0j, -2+2j, -2+0j, -2-2j], dtype=complex64)\n",
      "array([10, -2, -2, -2], dtype=float32)\n"
     ]
    }
   ],
   "source": [
    "# test = mx.array((4., 4., 3., 4.))\n",
    "test = mx.array((1., 2., 3., 4.))\n",
    "test_complex = mx.array.astype(test, dtype=mx.complex64)\n",
    "test_real = mx.array.astype(test_complex, dtype=mx.float32)\n",
    "\n",
    "print(test)\n",
    "print(test_complex)\n",
    "print(test_real)\n",
    "\n",
    "test_fft = mx.fft.fftn(test)\n",
    "test_fft_real = mx.array.astype(test_fft, dtype=mx.float32)\n",
    "print(test_fft)\n",
    "print(test_fft_real)\n"
   ]
  },
  {
   "cell_type": "code",
   "execution_count": 12,
   "id": "50453619-bb75-4fb9-bbba-15eb6bb19715",
   "metadata": {},
   "outputs": [],
   "source": [
    "def make_dtype_complex64_mx(array):\n",
    "    return mx.array.astype(array, dtype=mx.complex64)\n",
    "\n",
    "def inner_product_mx(a, b): \n",
    "    return mx.conjugate(a) * b\n",
    "\n",
    "def complex_sum_mx(array):\n",
    "    sum = mx.array(0)\n",
    "    for iii in range(array.size):\n",
    "        element = array[iii]\n",
    "        sum += element\n",
    "    return sum\n",
    "\n",
    "def noise_weighted_inner_product_mx(a, b, PSD, duration): \n",
    "    ''' from Bilby directly: \n",
    "    integrand = np.conj(aa) * bb / power_spectral_density\n",
    "    return 4 / duration * np.sum(integrand) \n",
    "    this also follows the PyCBC convention, the conjugated vector is given first\n",
    "    '''\n",
    "    integrand = inner_product_mx(a,b) / PSD\n",
    "    return 4 / duration * complex_sum_mx(integrand)\n"
   ]
  },
  {
   "cell_type": "markdown",
   "id": "3461bd2c-9ffc-4761-b805-26aa6404bad3",
   "metadata": {
    "jp-MarkdownHeadingCollapsed": true
   },
   "source": [
    "# functions to keep"
   ]
  },
  {
   "cell_type": "code",
   "execution_count": 109,
   "id": "428c9ccd-f899-4528-9437-15b915891333",
   "metadata": {},
   "outputs": [],
   "source": [
    "### functions to keep\n",
    "def split_inner_product_mx(a_re, a_im, b_re, b_im):\n",
    "    ''' calculates the inner product of two vectors a, b such that <a|b>\n",
    "    '''\n",
    "    c_re = a_re * b_re - a_im * b_im\n",
    "    c_im = a_re * b_im + b_re * a_im\n",
    "    return c_re, c_im\n",
    "\n",
    "def split_noise_weighted_inner_product_mx(a_re, a_im, b_re, b_im, PSD, duration):\n",
    "    ''' from Bilby directly: \n",
    "    integrand = np.conj(aa) * bb / power_spectral_density\n",
    "    return 4 / duration * np.sum(integrand) \n",
    "    this also follows the PyCBC convention, the conjugated vector is given first\n",
    "    '''\n",
    "    numerator_re, numerator_im = inner_product_mx(a_re, a_im, b_re, b_im)\n",
    "    integrand_re = numerator_re / PSD\n",
    "    integrand_im = numerator_im / PSD\n",
    "    result_re = 4 / duration * sum(integrand_re)\n",
    "    result_im = 4 / duration * sum(integrand_im)\n",
    "    return result_re, result_im\n",
    "\n",
    "def real_mx_DTYPE_HACK(array):\n",
    "    ''' this is a silly way to extract the real part of a complex number\n",
    "    we calculate the real, transform it into a string, split the string to recover \n",
    "    the characters that constitute the real part, and transform that into a float\n",
    "    dtype: complex64 -> float32\n",
    "    '''\n",
    "    if str(array.dtype) == 'mlx.core.complex64':\n",
    "        container = []\n",
    "        for iii in range(array.size):\n",
    "            z = array[iii]\n",
    "            real = (z + mx.conjugate(z))/2\n",
    "            real_str1 = str(real).split('(')[1].split('+')[0]\n",
    "            if real_str1[0] == '-':\n",
    "                real_str2 = str('-') + real_str1.split('-')[1]\n",
    "            else: \n",
    "                real_str2 = real_str1.split('-')[0]\n",
    "            container.append(float(real_str2))\n",
    "            container_mx = mx.array(container)\n",
    "        return container_mx\n",
    "    else: \n",
    "        return array\n",
    "\n",
    "def imag_mx_DTYPE_HACK(array):\n",
    "    if str(array.dtype) == 'mlx.core.complex64':\n",
    "        container = []\n",
    "        for iii in range(array.size):\n",
    "            z = array[iii]\n",
    "            imag = (z - mx.conjugate(z))/2j\n",
    "            imag_str1 = str(imag).split('(')[1].split(',')[0]\n",
    "            if imag_str1[-1] == 'j':\n",
    "                imag_str2 = str(imag_str1).split('j')[0].split('+')[0]\n",
    "            else: \n",
    "                imag_str2 = '-' + str(imag_str1).split('j')[0].split('-')[1]\n",
    "            container.append(float(imag_str2))\n",
    "            container_mx = mx.array(container)\n",
    "        return container_mx\n",
    "    else: \n",
    "        return array\n",
    "\n",
    "def make_dtype_complex64_mx(array):\n",
    "    return mx.array.astype(array, dtype=mx.complex64)\n",
    "\n",
    "def inner_product_mx(a, b): \n",
    "    return mx.conjugate(a) * b\n",
    "\n",
    "def complex_sum_mx(array):\n",
    "    sum = mx.array(0)\n",
    "    for iii in range(array.size):\n",
    "        element = array[iii]\n",
    "        sum += element\n",
    "    return sum\n",
    "\n",
    "def noise_weighted_inner_product_mx(a, b, power_spectral_density, duration): \n",
    "    ''' from Bilby directly: \n",
    "    integrand = np.conj(aa) * bb / power_spectral_density\n",
    "    return 4 / duration * np.sum(integrand) \n",
    "    this also follows the PyCBC convention, the conjugated vector is given first\n",
    "    '''\n",
    "    integrand = inner_product_mx(a,b) / power_spectral_density\n",
    "    return 4 / duration * complex_sum_mx(integrand)\n",
    "    \n",
    "def real_mx(array):\n",
    "    ''' keeps the real part of a complex64 array by changing type\n",
    "    dtype: complex64 -> float32\n",
    "    '''\n",
    "    return mx.array.astype(array, dtype=mx.float32)\n",
    "\n",
    "def imag_mx(array):\n",
    "    ''' keeps the imaginary part of a complex64 array by changing type\n",
    "    dtype: complex64 -> float32\n",
    "    '''\n",
    "    return real_mx((real_mx(array)-array)*1j)\n",
    "\n",
    "def decompose_complex_array_mx(array):\n",
    "    ''' saves the real and imaginary parts of a complex64 array as float32 arrays\n",
    "    '''\n",
    "    return real_mx(array), imag_mx(array)\n",
    "\n",
    "def rescale_PSD(power_spectral_density, dynamic_range_factor):\n",
    "    ''' rescaling the dynamic range of the PSD, forcing use of numpy as MLX\n",
    "    does not play nicely with the large exponents\n",
    "    '''\n",
    "    return np.array(power_spectral_density) * dynamic_range_factor\n",
    "\n"
   ]
  },
  {
   "cell_type": "code",
   "execution_count": 116,
   "id": "6b4e6cfd-ce56-4afb-bb94-0859174535ad",
   "metadata": {
    "collapsed": true,
    "jupyter": {
     "outputs_hidden": true
    }
   },
   "outputs": [
    {
     "data": {
      "text/plain": [
       "['Device',\n",
       " 'DeviceType',\n",
       " 'Dtype',\n",
       " 'DtypeCategory',\n",
       " 'Inf',\n",
       " 'Infinity',\n",
       " 'NAN',\n",
       " 'NINF',\n",
       " 'NZERO',\n",
       " 'NaN',\n",
       " 'PINF',\n",
       " 'PZERO',\n",
       " 'Stream',\n",
       " 'StreamContext',\n",
       " '_ArrayAt',\n",
       " '_ArrayIterator',\n",
       " '__doc__',\n",
       " '__file__',\n",
       " '__loader__',\n",
       " '__name__',\n",
       " '__package__',\n",
       " '__spec__',\n",
       " '__version__',\n",
       " 'abs',\n",
       " 'add',\n",
       " 'addmm',\n",
       " 'all',\n",
       " 'allclose',\n",
       " 'any',\n",
       " 'arange',\n",
       " 'arccos',\n",
       " 'arccosh',\n",
       " 'arcsin',\n",
       " 'arcsinh',\n",
       " 'arctan',\n",
       " 'arctan2',\n",
       " 'arctanh',\n",
       " 'argmax',\n",
       " 'argmin',\n",
       " 'argpartition',\n",
       " 'argsort',\n",
       " 'array',\n",
       " 'array_equal',\n",
       " 'as_strided',\n",
       " 'async_eval',\n",
       " 'atleast_1d',\n",
       " 'atleast_2d',\n",
       " 'atleast_3d',\n",
       " 'bfloat16',\n",
       " 'bitwise_and',\n",
       " 'bitwise_or',\n",
       " 'bitwise_xor',\n",
       " 'block_masked_mm',\n",
       " 'block_sparse_mm',\n",
       " 'block_sparse_qmm',\n",
       " 'bool_',\n",
       " 'broadcast_to',\n",
       " 'ceil',\n",
       " 'checkpoint',\n",
       " 'clip',\n",
       " 'compile',\n",
       " 'complex64',\n",
       " 'complexfloating',\n",
       " 'concatenate',\n",
       " 'conj',\n",
       " 'conjugate',\n",
       " 'conv1d',\n",
       " 'conv2d',\n",
       " 'conv3d',\n",
       " 'conv_general',\n",
       " 'convolve',\n",
       " 'cos',\n",
       " 'cosh',\n",
       " 'cpu',\n",
       " 'cummax',\n",
       " 'cummin',\n",
       " 'cumprod',\n",
       " 'cumsum',\n",
       " 'custom_function',\n",
       " 'default_device',\n",
       " 'default_stream',\n",
       " 'degrees',\n",
       " 'dequantize',\n",
       " 'diag',\n",
       " 'diagonal',\n",
       " 'disable_compile',\n",
       " 'distributed',\n",
       " 'divide',\n",
       " 'divmod',\n",
       " 'e',\n",
       " 'enable_compile',\n",
       " 'equal',\n",
       " 'erf',\n",
       " 'erfinv',\n",
       " 'euler_gamma',\n",
       " 'eval',\n",
       " 'exp',\n",
       " 'expand_dims',\n",
       " 'expm1',\n",
       " 'export_to_dot',\n",
       " 'eye',\n",
       " 'fast',\n",
       " 'fft',\n",
       " 'flatten',\n",
       " 'float16',\n",
       " 'float32',\n",
       " 'floating',\n",
       " 'floor',\n",
       " 'floor_divide',\n",
       " 'full',\n",
       " 'gather_mm',\n",
       " 'gather_qmm',\n",
       " 'generic',\n",
       " 'gpu',\n",
       " 'grad',\n",
       " 'greater',\n",
       " 'greater_equal',\n",
       " 'hadamard_transform',\n",
       " 'identity',\n",
       " 'inexact',\n",
       " 'inf',\n",
       " 'infty',\n",
       " 'inner',\n",
       " 'int16',\n",
       " 'int32',\n",
       " 'int64',\n",
       " 'int8',\n",
       " 'integer',\n",
       " 'isclose',\n",
       " 'isinf',\n",
       " 'isnan',\n",
       " 'isneginf',\n",
       " 'isposinf',\n",
       " 'issubdtype',\n",
       " 'jvp',\n",
       " 'left_shift',\n",
       " 'less',\n",
       " 'less_equal',\n",
       " 'linalg',\n",
       " 'linspace',\n",
       " 'load',\n",
       " 'log',\n",
       " 'log10',\n",
       " 'log1p',\n",
       " 'log2',\n",
       " 'logaddexp',\n",
       " 'logical_and',\n",
       " 'logical_not',\n",
       " 'logical_or',\n",
       " 'logsumexp',\n",
       " 'matmul',\n",
       " 'max',\n",
       " 'maximum',\n",
       " 'mean',\n",
       " 'meshgrid',\n",
       " 'metal',\n",
       " 'min',\n",
       " 'minimum',\n",
       " 'moveaxis',\n",
       " 'multiply',\n",
       " 'nan',\n",
       " 'negative',\n",
       " 'new_stream',\n",
       " 'newaxis',\n",
       " 'not_equal',\n",
       " 'number',\n",
       " 'ones',\n",
       " 'ones_like',\n",
       " 'outer',\n",
       " 'pad',\n",
       " 'partition',\n",
       " 'pi',\n",
       " 'power',\n",
       " 'prod',\n",
       " 'quantize',\n",
       " 'quantized_matmul',\n",
       " 'radians',\n",
       " 'random',\n",
       " 'reciprocal',\n",
       " 'remainder',\n",
       " 'repeat',\n",
       " 'reshape',\n",
       " 'right_shift',\n",
       " 'round',\n",
       " 'rsqrt',\n",
       " 'save',\n",
       " 'save_gguf',\n",
       " 'save_safetensors',\n",
       " 'savez',\n",
       " 'savez_compressed',\n",
       " 'set_default_device',\n",
       " 'set_default_stream',\n",
       " 'sigmoid',\n",
       " 'sign',\n",
       " 'signedinteger',\n",
       " 'sin',\n",
       " 'sinh',\n",
       " 'softmax',\n",
       " 'sort',\n",
       " 'split',\n",
       " 'sqrt',\n",
       " 'square',\n",
       " 'squeeze',\n",
       " 'stack',\n",
       " 'std',\n",
       " 'stop_gradient',\n",
       " 'stream',\n",
       " 'subtract',\n",
       " 'sum',\n",
       " 'swapaxes',\n",
       " 'synchronize',\n",
       " 'take',\n",
       " 'take_along_axis',\n",
       " 'tan',\n",
       " 'tanh',\n",
       " 'tensordot',\n",
       " 'tile',\n",
       " 'topk',\n",
       " 'trace',\n",
       " 'transpose',\n",
       " 'tri',\n",
       " 'tril',\n",
       " 'triu',\n",
       " 'uint16',\n",
       " 'uint32',\n",
       " 'uint64',\n",
       " 'uint8',\n",
       " 'unsignedinteger',\n",
       " 'value_and_grad',\n",
       " 'var',\n",
       " 'view',\n",
       " 'vjp',\n",
       " 'vmap',\n",
       " 'where',\n",
       " 'zeros',\n",
       " 'zeros_like']"
      ]
     },
     "execution_count": 116,
     "metadata": {},
     "output_type": "execute_result"
    }
   ],
   "source": [
    "dir(mx)"
   ]
  },
  {
   "cell_type": "code",
   "execution_count": 117,
   "id": "cee45998-59b0-4c40-8510-bbffbd23220f",
   "metadata": {},
   "outputs": [
    {
     "name": "stdout",
     "output_type": "stream",
     "text": [
      "/opt/anaconda3/envs/mj_pycbc_test/lib/python3.12/site-packages/mlx/core.cpython-312-darwin.so\n"
     ]
    }
   ],
   "source": [
    "print(mx.__file__)"
   ]
  },
  {
   "cell_type": "markdown",
   "id": "ef383518-45d2-41da-ad0e-ccb601e59ae5",
   "metadata": {
    "jp-MarkdownHeadingCollapsed": true
   },
   "source": [
    "# messing around with FFTs"
   ]
  },
  {
   "cell_type": "code",
   "execution_count": 35,
   "id": "f71a04ee-39a3-4599-9cea-4bb56979c70f",
   "metadata": {},
   "outputs": [
    {
     "name": "stdout",
     "output_type": "stream",
     "text": [
      "array([13+0j, 0-1j, -1+-0j], dtype=complex64)\n",
      "array([13+0j, 0-1j, -1+0j, 0+1j], dtype=complex64)\n",
      "array([18+0j, 1+3j, -4+-0j], dtype=complex64)\n",
      "array([18+0j, 1+3j, -4+0j, 1-3j], dtype=complex64)\n"
     ]
    }
   ],
   "source": [
    "a_re = mx.array((3., 4., 3., 3.))\n",
    "a_im = mx.array((5., 7., 5., 5.))\n",
    "b_re = mx.array((4., 4., 3., 7.))\n",
    "b_im = mx.array((7., 7., 5., 7.))\n",
    "\n",
    "a_re_fft = mx.fft.fftn(a_re)\n",
    "a_re_rfft = mx.fft.rfftn(a_re)\n",
    "print(a_re_rfft)\n",
    "print(a_re_fft)\n",
    "\n",
    "b_re_rfft = mx.fft.rfftn(b_re)\n",
    "b_re_fft = mx.fft.fftn(b_re)\n",
    "print(b_re_rfft)\n",
    "print(b_re_fft)"
   ]
  },
  {
   "cell_type": "code",
   "execution_count": 36,
   "id": "8d60a815-66e9-4eb9-9c8c-745e0d8fd9e8",
   "metadata": {},
   "outputs": [],
   "source": [
    "a_re_fft_conj = mx.conjugate(a_re_fft)\n"
   ]
  },
  {
   "cell_type": "code",
   "execution_count": 37,
   "id": "2e581113-bdc7-4825-bc42-3ef9fb8a9bf2",
   "metadata": {},
   "outputs": [
    {
     "name": "stdout",
     "output_type": "stream",
     "text": [
      "array(12+0j, dtype=complex64)\n"
     ]
    }
   ],
   "source": [
    "print(complex_sum_mx(a_re_fft))"
   ]
  },
  {
   "cell_type": "markdown",
   "id": "671ff2ce-f069-47ac-a2f1-c11012e837d4",
   "metadata": {
    "jp-MarkdownHeadingCollapsed": true
   },
   "source": [
    "# implementing dynamic range correction"
   ]
  },
  {
   "cell_type": "code",
   "execution_count": 42,
   "id": "ee4803bc-e3b2-484a-978b-cfff67d06508",
   "metadata": {},
   "outputs": [
    {
     "name": "stdout",
     "output_type": "stream",
     "text": [
      "array([1e-20, 8e-21, 6e-21, 9e-21], dtype=float32)\n",
      "array([5.90296, 4.72237, 3.54177, 5.31266], dtype=float32)\n",
      "array([9.99995e-41, 8.00001e-41, 5.99994e-41, 8.99998e-41], dtype=float32)\n",
      "array([0, 0, 0, 0], dtype=float32)\n",
      "array([nan, nan, nan, nan], dtype=float32)\n"
     ]
    }
   ],
   "source": [
    "# directly from pycbc\n",
    "'''For PSDs taken from models or text files, if `dyn_range_factor` is\n",
    "not None, then the PSD is multiplied by `dyn_range_factor` ** 2.\n",
    "\n",
    "# Dynamic range factor: a large constant for rescaling\n",
    "# GW strains.  This is 2**69 rounded to 17 sig.fig.\n",
    "DYN_RANGE_FAC =  5.9029581035870565e+20\n",
    "'''\n",
    "\n",
    "mock_PSD = mx.array((1e-20, 8e-21, 6e-21, 9e-21))\n",
    "mock_PSD2 = mx.array((1e-40, 8e-41, 6e-41, 9e-41))\n",
    "duration = 8\n",
    "DYN_RANGE_FAC = mx.array((5.9029581035870565e+20))\n",
    "DYN_RANGE_FAC2 = mx.array((5.9029581035870565e+40))\n",
    "\n",
    "print(mock_PSD)\n",
    "print(mock_PSD * DYN_RANGE_FAC)\n",
    "print(mock_PSD2)\n",
    "print(mock_PSD2 * DYN_RANGE_FAC)\n",
    "print(mock_PSD2 * DYN_RANGE_FAC2)"
   ]
  },
  {
   "cell_type": "code",
   "execution_count": 133,
   "id": "70972faf-9f6b-4659-a02b-d7910906f7f1",
   "metadata": {},
   "outputs": [
    {
     "name": "stdout",
     "output_type": "stream",
     "text": [
      "[1.e-20 8.e-21 6.e-21 9.e-21]\n",
      "[5.902958  4.7223663 3.5417747 5.312662 ]\n",
      "[1.e-40 8.e-41 6.e-41 9.e-41]\n",
      "[5.90295810e-20 4.72236648e-20 3.54177486e-20 5.31266229e-20]\n",
      "[5.9029581  4.72236648 3.54177486 5.31266229]\n",
      "array([5.90296, 4.72237, 3.54177, 5.31266], dtype=float32)\n"
     ]
    }
   ],
   "source": [
    "mock_PSD_np = np.array(mock_PSD)\n",
    "mock_PSD2_np = np.array(mock_PSD2_np)\n",
    "\n",
    "DYN_RANGE_FAC_np = 5.9029581035870565e+20\n",
    "DYN_RANGE_FAC2_np = 5.9029581035870565e+40\n",
    "DYN_RANGE_FAC = mx.array((5.9029581035870565e+20))\n",
    "\n",
    "new_mock_PSD_np = mock_PSD_np * DYN_RANGE_FAC_np\n",
    "new_mock_PSD2_np = mock_PSD2_np * DYN_RANGE_FAC2_np\n",
    "\n",
    "new_mock_PSD2_mx = mx.array(new_mock_PSD2_np)\n",
    "\n",
    "print(mock_PSD_np)\n",
    "print(new_mock_PSD_np)\n",
    "print(mock_PSD2_np)\n",
    "print(mock_PSD2_np * DYN_RANGE_FAC)\n",
    "print(new_mock_PSD2_np)\n",
    "print(new_mock_PSD2_mx)\n"
   ]
  },
  {
   "cell_type": "code",
   "execution_count": 30,
   "id": "436d220d-979e-4bee-8814-9031a8eb9f9f",
   "metadata": {},
   "outputs": [
    {
     "name": "stdout",
     "output_type": "stream",
     "text": [
      "array([9.99995e-41+0j, 8.00001e-41+0j, 5.99994e-41+0j, 8.99998e-41+0j], dtype=complex64)\n",
      "array([0+0j, 0+0j, 0+0j, 0+0j], dtype=complex64)\n"
     ]
    }
   ],
   "source": [
    "mock_PSD_complex = make_dtype_complex64_mx(mock_PSD)\n",
    "mock_PSD2_complex = make_dtype_complex64_mx(mock_PSD2)\n",
    "\n",
    "print(mock_PSD2_complex)\n",
    "print(mock_PSD2_complex * DYN_RANGE_FAC2)\n"
   ]
  },
  {
   "cell_type": "code",
   "execution_count": 137,
   "id": "4efb1ad0-f5c1-42d7-b108-b98e15d333ff",
   "metadata": {},
   "outputs": [],
   "source": [
    "def rescale_PSD(power_spectral_density, dynamic_range_factor):\n",
    "    ''' rescaling the dynamic range of the PSD, forcing use of numpy as MLX\n",
    "    does not play nicely with the large exponents\n",
    "    '''\n",
    "    return np.array(power_spectral_density) * dynamic_range_factor"
   ]
  },
  {
   "cell_type": "code",
   "execution_count": 136,
   "id": "b2e59117-ea14-47fc-8a85-44134c056486",
   "metadata": {},
   "outputs": [
    {
     "name": "stdout",
     "output_type": "stream",
     "text": [
      "[5.902958  4.7223663 3.5417747 5.312662 ]\n",
      "[inf+nanj inf+nanj inf+nanj inf+nanj]\n",
      "[5.902958  4.7223663 3.5417747 5.312662 ]\n",
      "[5.9029581  4.72236648 3.54177486 5.31266229]\n"
     ]
    },
    {
     "name": "stderr",
     "output_type": "stream",
     "text": [
      "/var/folders/dq/sxpx8pl960z1m4x_sdxtt8yr0000gn/T/ipykernel_7716/3659289637.py:5: RuntimeWarning: invalid value encountered in multiply\n",
      "  return np.array(power_spectral_density) * dynamic_range_factor\n"
     ]
    }
   ],
   "source": [
    "new_PSD = rescale_PSD(mock_PSD, DYN_RANGE_FAC)\n",
    "new_PSD2 = rescale_PSD(mock_PSD2, DYN_RANGE_FAC2)\n",
    "\n",
    "new_PSD_np = rescale_PSD(mock_PSD_np, DYN_RANGE_FAC_np)\n",
    "new_PSD2_np = rescale_PSD(mock_PSD2_np, DYN_RANGE_FAC2_np)\n",
    "\n",
    "print(new_PSD)\n",
    "print(new_PSD2)\n",
    "print(new_PSD_np)\n",
    "print(new_PSD2_np)"
   ]
  },
  {
   "cell_type": "code",
   "execution_count": 132,
   "id": "434b686d-6a02-4474-9e9f-f1e1d4d6f47c",
   "metadata": {},
   "outputs": [
    {
     "name": "stdout",
     "output_type": "stream",
     "text": [
      "5.902958103587057e+40\n"
     ]
    }
   ],
   "source": [
    "print(DYN_RANGE_FAC2_np)"
   ]
  },
  {
   "cell_type": "markdown",
   "id": "e13988a5-56ef-4d82-aba9-65fd5fe571d1",
   "metadata": {},
   "source": [
    "# messing around with division"
   ]
  },
  {
   "cell_type": "code",
   "execution_count": 5,
   "id": "be64106a-0c3f-42da-944a-68f1e3193d4a",
   "metadata": {},
   "outputs": [
    {
     "name": "stdout",
     "output_type": "stream",
     "text": [
      "array([0.1+0j, -0.5-0.5j, -1.5+-0j, -1+1j], dtype=complex64)\n"
     ]
    }
   ],
   "source": [
    "a_float = mx.array((1., 2., 3., 4.))\n",
    "a_compl = mx.fft.fftn(mx.array.astype(a_float, dtype=mx.complex64))\n",
    "\n",
    "division = a_float / a_compl\n",
    "print(division)\n"
   ]
  },
  {
   "cell_type": "code",
   "execution_count": null,
   "id": "c9c16d4d-85a0-48fa-ac60-69cd5161ec48",
   "metadata": {},
   "outputs": [],
   "source": []
  }
 ],
 "metadata": {
  "kernelspec": {
   "display_name": "mj_pycbc_test",
   "language": "python",
   "name": "mj_pycbc_test"
  },
  "language_info": {
   "codemirror_mode": {
    "name": "ipython",
    "version": 3
   },
   "file_extension": ".py",
   "mimetype": "text/x-python",
   "name": "python",
   "nbconvert_exporter": "python",
   "pygments_lexer": "ipython3",
   "version": "3.12.4"
  }
 },
 "nbformat": 4,
 "nbformat_minor": 5
}
