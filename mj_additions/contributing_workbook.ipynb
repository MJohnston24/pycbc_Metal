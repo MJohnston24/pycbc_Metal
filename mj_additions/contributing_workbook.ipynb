{
 "cells": [
  {
   "cell_type": "markdown",
   "id": "1edd463e-1321-4807-95f5-ce058575d4d6",
   "metadata": {},
   "source": [
    "#### This notebook is a companion to the `contributing_functions` notebook. \n",
    "\n",
    "This will hopefully be a helpful starting place for continuing this project. \n",
    "\n",
    "Eventually, we intend to have rewritten some of the GW search analysis that leverages the shared CPU-GPU memory on the Apple silicon hardware. This is coded up through the MLX package which creates its own arrays which we will use. \n",
    "\n",
    "So let's start with bringing in MLX. "
   ]
  },
  {
   "cell_type": "code",
   "execution_count": 1,
   "id": "51155dd1-4cee-4a99-a49a-8c1c3d05ea24",
   "metadata": {
    "collapsed": true,
    "jupyter": {
     "outputs_hidden": true
    }
   },
   "outputs": [
    {
     "ename": "SyntaxError",
     "evalue": "invalid syntax (3946586278.py, line 2)",
     "output_type": "error",
     "traceback": [
      "\u001b[0;36m  Cell \u001b[0;32mIn[1], line 2\u001b[0;36m\u001b[0m\n\u001b[0;31m    pip install nbformat\u001b[0m\n\u001b[0m        ^\u001b[0m\n\u001b[0;31mSyntaxError\u001b[0m\u001b[0;31m:\u001b[0m invalid syntax\n"
     ]
    }
   ],
   "source": [
    "# may need to be run for '%run contributing_functions.ipynb'\n",
    "pip install nbformat"
   ]
  },
  {
   "cell_type": "code",
   "execution_count": 2,
   "id": "1c3d2895-3cf5-45f4-a2cb-7eaef890412d",
   "metadata": {},
   "outputs": [],
   "source": [
    "import numpy as np\n",
    "import mlx.core as mx\n",
    "\n",
    "%run contributing_functions.ipynb"
   ]
  },
  {
   "cell_type": "markdown",
   "id": "4d2f9505-d3b4-47ea-b44e-88148be7f34b",
   "metadata": {},
   "source": [
    "MLX has its own arrays, the `float32` and `complex64` dtypes will be the most useful for us. \n",
    "\n",
    "These have all the arithemtic functionality one would expect; addition, subtraction, multiplication, division. However there, are some quality of life features that are missing. \n",
    "\n",
    "MLX `complex64` arrays do not have the `array.real`, `array.imag`, or `array.sum` functionality. We create explicit functions to extract these in `contributing_functions.ipynb`."
   ]
  },
  {
   "cell_type": "code",
   "execution_count": 3,
   "id": "98b8a1de-8673-4d4d-8412-6c1d0b332fb7",
   "metadata": {},
   "outputs": [
    {
     "name": "stdout",
     "output_type": "stream",
     "text": [
      "z as complex64: array(4+3j, dtype=complex64)\n",
      "real part of z: array(4, dtype=float32)\n",
      "imag part of z: array(3, dtype=float32)\n",
      "sum of a complex array: array(14+17j, dtype=complex64)\n"
     ]
    }
   ],
   "source": [
    "z = mx.array(4 + 3j)\n",
    "print('z as complex64: {}'.format(z))\n",
    "\n",
    "z_real, z_imag = decompose_complex_array_mx(z)\n",
    "print('real part of z: {}'.format(z_real))\n",
    "print('imag part of z: {}'.format(z_imag))\n",
    "\n",
    "z_array = mx.array((4 + 3j, 5 + 6j, 2 + 1j, 3 + 7j))\n",
    "print('sum of a complex array: {}'.format(complex_sum_mx(z_array)))"
   ]
  },
  {
   "cell_type": "markdown",
   "id": "7c0fb17b-a941-4709-8a1b-16f8e99b8c58",
   "metadata": {},
   "source": [
    "#### With these, we can move on to the GW application. \n",
    "\n",
    "We will need to recreate some functions that already exist in PyCBC and BILBY using MLX arrays. Let's start with the noise weighted inner product. \n",
    "\n",
    "For simplicity, we read in an arbitrary PSD file, but this can be taken from PyCBC as well. \n",
    "\n",
    "We will need to flatten out the dynamic range of the PSD values so that the MLX arrays will play nicely. Floats with large numbers in their exponents will become `NAN` or `inf`."
   ]
  },
  {
   "cell_type": "code",
   "execution_count": 4,
   "id": "a2b68fd4-1f26-44a0-a419-104eb6eec554",
   "metadata": {},
   "outputs": [
    {
     "name": "stdout",
     "output_type": "stream",
     "text": [
      "Original PSD range: 1.59473e-47, 2.71941e-28\n",
      "Rescaled PSD range: 9.41361e-12, 1.60526e+08\n"
     ]
    }
   ],
   "source": [
    "example_PSD = np.loadtxt('KAGRA_design_psd.txt')\n",
    "\n",
    "DYN_RANGE_FAC = 5.9029581035870565e+35\n",
    "\n",
    "frequency = example_PSD[:,0]\n",
    "rescaled_PSD = rescale_PSD_mx(example_PSD[:,1], DYN_RANGE_FAC)\n",
    "\n",
    "print('Original PSD range: {:.5e}, {:.5e}'.format(np.min(example_PSD[:,1]), np.max(example_PSD[:,1])))\n",
    "print('Rescaled PSD range: {:.5e}, {:.5e}'.format(np.min(rescaled_PSD), np.max(rescaled_PSD)))"
   ]
  },
  {
   "cell_type": "markdown",
   "id": "66f91773-82fe-417c-9a3d-d538cc32e9d9",
   "metadata": {},
   "source": [
    "Now with the expanded array functionality and the PSD with values close-ish to unity, we are able to calculate the noise-weighted inner product of any two complex arrays, given a specific PSD, in the same way that BILBY calculates this value. \n",
    "\n",
    "$(a|b)\\propto\\int\\frac{<a|b>}{PSD}df$\n",
    "\n",
    "In general, we care just about the real part. "
   ]
  },
  {
   "cell_type": "code",
   "execution_count": 5,
   "id": "40d4d111-2fee-4397-8745-2507da9f5431",
   "metadata": {},
   "outputs": [
    {
     "name": "stdout",
     "output_type": "stream",
     "text": [
      "array(1.36424e+15+3.23108e+14j, dtype=complex64)\n",
      "array(1.36424e+15, dtype=float32)\n"
     ]
    }
   ],
   "source": [
    "z1 = mx.array(4 + 3j)\n",
    "z2 = mx.array(5 + 6j)\n",
    "\n",
    "duration = 8\n",
    "\n",
    "NWIP = noise_weighted_inner_product_mx(z1, z2, rescaled_PSD, duration)\n",
    "print(NWIP)\n",
    "print(real_mx(NWIP))"
   ]
  },
  {
   "cell_type": "markdown",
   "id": "2176377b-1b2d-4260-8ef5-bc5560d667ec",
   "metadata": {},
   "source": [
    "Next we can use MLX FFTs to handle the Fourier transform in place of PyCBC FFTs. \n",
    "\n",
    "`mx.fft.fftn` most closely follows the behavior we want to recreate. "
   ]
  },
  {
   "cell_type": "code",
   "execution_count": 6,
   "id": "c7a3fccc-d04b-4b7e-9d43-ab5faefddbd0",
   "metadata": {},
   "outputs": [
    {
     "name": "stdout",
     "output_type": "stream",
     "text": [
      "original    : array([4+3j, 5+6j, 2+1j, 3+7j], dtype=complex64)\n",
      "transformed : array([14+17j, 1+0j, -2-9j, 3+4j], dtype=complex64)\n"
     ]
    }
   ],
   "source": [
    "zt_array = mx.fft.fftn(z_array)\n",
    "print('original    : {}'.format(z_array))\n",
    "print('transformed : {}'.format(zt_array))\n"
   ]
  },
  {
   "cell_type": "markdown",
   "id": "d458a13e-56a6-46c8-9327-a53ff9d57817",
   "metadata": {},
   "source": [
    "### Future work\n",
    "\n",
    "Finding places in PyCBC which should be done in MLX (all the places that use CUDA)\n",
    "\n",
    "Starting with some promising locations, which are more likely to need MLX versions\n",
    "- Within `pycbc/waveform`\n",
    "    - `utils_cuda.py` -> specifically the use of `pycuda.complier.SourceModule` (https://github.com/gwastro/pycbc/blob/ff8e49916b4a53ab8f8e3a442d983a23d9816b89/pycbc/waveform/utils_cuda.py#L76C7-L76C19)\n",
    "    - `decompress_cuda.py` -> again for the use of `pycuda.complier.SourceModule` (https://github.com/gwastro/pycbc/blob/ff8e49916b4a53ab8f8e3a442d983a23d9816b89/pycbc/waveform/decompress_cuda.py#L265)\n",
    "    - `spa_tmplt_cuda.py` -> for the use of `pycuda.elementwise.ElementwiseKernel` (https://github.com/gwastro/pycbc/blob/ff8e49916b4a53ab8f8e3a442d983a23d9816b89/pycbc/waveform/spa_tmplt_cuda.py#L80)\n",
    "- Witin `pycbc/filter`\n",
    "    - `matchedfilter_cuda.py` -> uses multiple `pycuda` tools (https://github.com/gwastro/pycbc/blob/ff8e49916b4a53ab8f8e3a442d983a23d9816b89/pycbc/filter/matchedfilter_cuda.py#L26)\n",
    "        - `pycuda.elementwise.ElementwiseKernel` \n",
    "        - `pycuda.tools.context_dependent_memoize`\n",
    "        - `pycuda.tools.dtype_to_ctype`\n",
    "        - `pycuda.gpuarray._get_common_dtype`\n",
    "- Witin `pycbc/fft`\n",
    "    - `cuda_pyfft` -> uses `pyfft.cuda.Plan` (https://github.com/gwastro/pycbc/blob/ff8e49916b4a53ab8f8e3a442d983a23d9816b89/pycbc/fft/cuda_pyfft.py#L46)\n",
    " \n",
    "\n",
    "Other places to check\n",
    "- Within `pycbc/types/array_cuda.py`\n",
    "    - (https://github.com/gwastro/pycbc/blob/ff8e49916b4a53ab8f8e3a442d983a23d9816b89/pycbc/types/array_cuda.py#L26C8-L26C14)\n",
    "- https://github.com/search?q=repo%3Agwastro%2Fpycbc+cuda&type=code\n",
    "- Install specifications (https://github.com/gwastro/pycbc/blob/ff8e49916b4a53ab8f8e3a442d983a23d9816b89/INSTALL#L1)"
   ]
  },
  {
   "cell_type": "code",
   "execution_count": null,
   "id": "696120bc-88af-4081-bc81-866aa756457e",
   "metadata": {},
   "outputs": [],
   "source": []
  }
 ],
 "metadata": {
  "kernelspec": {
   "display_name": "mj_pycbc_test",
   "language": "python",
   "name": "mj_pycbc_test"
  },
  "language_info": {
   "codemirror_mode": {
    "name": "ipython",
    "version": 3
   },
   "file_extension": ".py",
   "mimetype": "text/x-python",
   "name": "python",
   "nbconvert_exporter": "python",
   "pygments_lexer": "ipython3",
   "version": "3.12.4"
  }
 },
 "nbformat": 4,
 "nbformat_minor": 5
}
