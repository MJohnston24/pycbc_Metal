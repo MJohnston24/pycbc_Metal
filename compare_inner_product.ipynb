{
 "cells": [
  {
   "cell_type": "code",
   "execution_count": 1,
   "id": "b84b2e97-0299-459c-8a0a-7bf7c98986e9",
   "metadata": {},
   "outputs": [],
   "source": [
    "import numpy as np\n",
    "import mlx.core as mx"
   ]
  },
  {
   "cell_type": "code",
   "execution_count": 2,
   "id": "1d52c88d-4b10-46b4-9f06-7a580560a0da",
   "metadata": {
    "collapsed": true,
    "jupyter": {
     "outputs_hidden": true,
     "source_hidden": true
    }
   },
   "outputs": [
    {
     "name": "stdout",
     "output_type": "stream",
     "text": [
      "array(-16, dtype=float32) array(30, dtype=float32)\n"
     ]
    }
   ],
   "source": [
    "a_re = mx.array(3.)\n",
    "a_im = mx.array(5.)\n",
    "b_re = mx.array(4.)\n",
    "b_im = mx.array(7.)\n",
    "\n",
    "# inner product (dot product)\n",
    "c_re = a_re * a_re - a_im * a_im\n",
    "c_im = 2 * a_re * a_im\n",
    "\n",
    "print(c_re, c_im)"
   ]
  },
  {
   "cell_type": "code",
   "execution_count": 2,
   "id": "a4749d2c-4b9e-4e6d-a635-a182d86e7bd5",
   "metadata": {},
   "outputs": [],
   "source": [
    "def inner_product(a_re, a_im, b_re, b_im):\n",
    "    # a \\dot b\n",
    "    c_re = a_re * b_re - a_im * b_im\n",
    "    c_im = a_re * b_im + b_re * a_im\n",
    "    return c_re, c_im\n"
   ]
  },
  {
   "cell_type": "code",
   "execution_count": 23,
   "id": "2c95435a-b81d-4594-8d23-425ceac2ee95",
   "metadata": {
    "collapsed": true,
    "jupyter": {
     "outputs_hidden": true,
     "source_hidden": true
    }
   },
   "outputs": [
    {
     "name": "stdout",
     "output_type": "stream",
     "text": [
      "array(-16, dtype=float32) array(30, dtype=float32)\n",
      "array(-33, dtype=float32) array(56, dtype=float32)\n",
      "array(-23, dtype=float32) array(41, dtype=float32)\n"
     ]
    }
   ],
   "source": [
    "c_re, c_im = inner_product(a_re, a_im, a_re, a_im)\n",
    "print(c_re, c_im)\n",
    "\n",
    "d_re, d_im = inner_product(b_re, b_im, b_re, b_im)\n",
    "print(d_re, d_im)\n",
    "\n",
    "e_re, e_im = inner_product(a_re, a_im, b_re, b_im)\n",
    "print(e_re, e_im)"
   ]
  },
  {
   "cell_type": "code",
   "execution_count": 27,
   "id": "8ea8db82-08a4-4c7d-b283-d64e7bd8f8d5",
   "metadata": {
    "collapsed": true,
    "jupyter": {
     "outputs_hidden": true,
     "source_hidden": true
    }
   },
   "outputs": [
    {
     "name": "stdout",
     "output_type": "stream",
     "text": [
      "array([1, 2, 3, 4], dtype=int32)\n",
      "array(10, dtype=int32)\n"
     ]
    }
   ],
   "source": [
    "a = mx.array((1, 2, 3, 4))\n",
    "print(a)\n",
    "print(sum(a))"
   ]
  },
  {
   "cell_type": "code",
   "execution_count": 3,
   "id": "bfd6e7b3-224e-4329-872e-474e4270233f",
   "metadata": {},
   "outputs": [
    {
     "name": "stdout",
     "output_type": "stream",
     "text": [
      "array([-16, -33, -16, -16], dtype=float32) array([30, 56, 30, 30], dtype=float32)\n"
     ]
    }
   ],
   "source": [
    "a_re = mx.array((3., 4., 3., 3.))\n",
    "a_im = mx.array((5., 7., 5., 5.))\n",
    "b_re = mx.array((4., 4., 3., 7.))\n",
    "b_im = mx.array((7., 7., 5., 7.))\n",
    "\n",
    "c_re, c_im = inner_product(a_re, a_im, a_re, a_im)\n",
    "print(c_re, c_im)"
   ]
  },
  {
   "cell_type": "code",
   "execution_count": 6,
   "id": "66d2135a-6a60-46c5-ac62-3fc53ce04f7e",
   "metadata": {},
   "outputs": [],
   "source": [
    "def noise_weighted_inner_product(a_re, a_im, b_re, b_im, PSD, duration):\n",
    "    ''' from Bilby directly: \n",
    "    integrand = np.conj(aa) * bb / power_spectral_density\n",
    "    return 4 / duration * np.sum(integrand) '''\n",
    "    numerator_re, numerator_im = inner_product(a_re, a_im, b_re, -b_im)\n",
    "    # numerator_re, numerator_im = inner_product(a_re, -a_im, b_re, b_im)\n",
    "    integrand_re = numerator_re / PSD\n",
    "    integrand_im = numerator_im / PSD\n",
    "    result_re = 4 / duration * sum(integrand_re)\n",
    "    result_im = 4 / duration * sum(integrand_im)\n",
    "    return result_re, result_im\n"
   ]
  },
  {
   "cell_type": "code",
   "execution_count": 5,
   "id": "b6a375a7-2377-491f-a52d-a23edd68f1e2",
   "metadata": {},
   "outputs": [
    {
     "name": "stdout",
     "output_type": "stream",
     "text": [
      "array(1.23569e+22, dtype=float32) array(-7.27778e+20, dtype=float32)\n"
     ]
    }
   ],
   "source": [
    "mock_PSD = mx.array((1e-20, 8e-21, 6e-21, 9e-21))\n",
    "duration = 8\n",
    "\n",
    "result_re, result_im = noise_weighted_inner_product(a_re, a_im, b_re, b_im, mock_PSD, duration)\n",
    "print(result_re, result_im)"
   ]
  },
  {
   "cell_type": "code",
   "execution_count": 7,
   "id": "f84f4b05-20e7-492a-9677-2e87b991843f",
   "metadata": {},
   "outputs": [
    {
     "name": "stdout",
     "output_type": "stream",
     "text": [
      "array(1.23569e+22, dtype=float32) array(7.27778e+20, dtype=float32)\n"
     ]
    }
   ],
   "source": [
    "mock_PSD = mx.array((1e-20, 8e-21, 6e-21, 9e-21))\n",
    "duration = 8\n",
    "\n",
    "result_re, result_im = noise_weighted_inner_product(a_re, a_im, b_re, b_im, mock_PSD, duration)\n",
    "print(result_re, result_im)"
   ]
  },
  {
   "cell_type": "code",
   "execution_count": null,
   "id": "57e758e9-245b-48b5-aa17-d140993bdd42",
   "metadata": {},
   "outputs": [],
   "source": []
  }
 ],
 "metadata": {
  "kernelspec": {
   "display_name": "mj_pycbc_test",
   "language": "python",
   "name": "mj_pycbc_test"
  },
  "language_info": {
   "codemirror_mode": {
    "name": "ipython",
    "version": 3
   },
   "file_extension": ".py",
   "mimetype": "text/x-python",
   "name": "python",
   "nbconvert_exporter": "python",
   "pygments_lexer": "ipython3",
   "version": "3.12.4"
  }
 },
 "nbformat": 4,
 "nbformat_minor": 5
}
